{
  "nbformat": 4,
  "nbformat_minor": 0,
  "metadata": {
    "colab": {
      "provenance": [],
      "authorship_tag": "ABX9TyPUQV97RQALXPzsMhVidzHD",
      "include_colab_link": true
    },
    "kernelspec": {
      "name": "python3",
      "display_name": "Python 3"
    },
    "language_info": {
      "name": "python"
    }
  },
  "cells": [
    {
      "cell_type": "markdown",
      "metadata": {
        "id": "view-in-github",
        "colab_type": "text"
      },
      "source": [
        "<a href=\"https://colab.research.google.com/github/ozalakshay/repo/blob/main/ds.ipynb\" target=\"_parent\"><img src=\"https://colab.research.google.com/assets/colab-badge.svg\" alt=\"Open In Colab\"/></a>"
      ]
    },
    {
      "cell_type": "code",
      "execution_count": null,
      "metadata": {
        "id": "jUfZoqd5FKYg"
      },
      "outputs": [],
      "source": [
        "import pandas as pd\n",
        "df1 = pd.read_csv(\"/content/pract1.csv\")\n",
        "df1['hours'] = pd.to_timedelta(df['Duration']).dt.total_seconds() / 3600\n",
        "print(df1)"
      ]
    },
    {
      "cell_type": "code",
      "source": [
        "import pandas as pd\n",
        "df = pd.read_csv(\"/content/pract3.csv\")\n",
        "df[\"hours\"] = pd.to_timedelta(df[\"timestamp\"]).dt.total_seconds() / 3600\n",
        "print(df)"
      ],
      "metadata": {
        "id": "EJQv3TIpFSRG"
      },
      "execution_count": null,
      "outputs": []
    },
    {
      "cell_type": "markdown",
      "source": [
        "2"
      ],
      "metadata": {
        "id": "xHJ6EX98FaCU"
      }
    },
    {
      "cell_type": "code",
      "source": [],
      "metadata": {
        "id": "iuDlYXc5Fr1Z"
      },
      "execution_count": null,
      "outputs": []
    },
    {
      "cell_type": "code",
      "source": [
        "import pandas as pd\n",
        "data = {'Name': ['Alice', 'Bob', 'Charlie', 'David', 'Emma'], 'Age': [5, 17, 34, 70, 25]}\n",
        "df = pd.DataFrame(data)\n",
        "bins = [0, 12, 19, 59, 100]\n",
        "labels = ['child', 'Teenager', 'Adult', 'Senior']\n",
        "df['Age Group'] = pd.cut(df['Age'], bins=bins, labels=labels)\n",
        "print(df)"
      ],
      "metadata": {
        "colab": {
          "base_uri": "https://localhost:8080/"
        },
        "id": "j7akQhMKFcEq",
        "outputId": "d1186c7b-d813-4a46-a8eb-775b5faf5d89"
      },
      "execution_count": 1,
      "outputs": [
        {
          "output_type": "stream",
          "name": "stdout",
          "text": [
            "      Name  Age Age Group\n",
            "0    Alice    5     child\n",
            "1      Bob   17  Teenager\n",
            "2  Charlie   34     Adult\n",
            "3    David   70    Senior\n",
            "4     Emma   25     Adult\n"
          ]
        }
      ]
    },
    {
      "cell_type": "code",
      "source": [
        "df['Age Bin'] = pd.cut(df['Age'], bins=3)\n",
        "print(df)"
      ],
      "metadata": {
        "id": "Y1Y3fyBEFtSh"
      },
      "execution_count": null,
      "outputs": []
    },
    {
      "cell_type": "code",
      "source": [
        "df['Quantile Bin'] = pd.qcut(df['Age'], q=3, labels=['Low', 'Medium', 'High'])\n",
        "print(df)"
      ],
      "metadata": {
        "id": "5OpPREO-Fv6l"
      },
      "execution_count": null,
      "outputs": []
    },
    {
      "cell_type": "markdown",
      "source": [
        "3"
      ],
      "metadata": {
        "id": "JUnQFbYEFy17"
      }
    },
    {
      "cell_type": "code",
      "source": [
        "data = [10, 20, 30, 40, 50]\n",
        "average = sum(data) / len(data)\n",
        "print(\"Average:\", average)\n",
        "import statistics\n",
        "data = [10, 20, 30, 40, 50]\n",
        "average = statistics.mean(data)\n",
        "print(\"Average:\", average)\n",
        "import numpy as np\n",
        "data = np.array([10, 20, 30, 40, 50])\n",
        "average = np.mean(data)\n",
        "print(\"Average:\", average)\n",
        "import numpy as np\n",
        "data=[10,20,45,35,87]\n",
        "total=np.sum(data)\n",
        "print(\"Total=\",total)\n",
        "mn=np.mean(data)\n",
        "print(\"Mean of Data\",mn)"
      ],
      "metadata": {
        "colab": {
          "base_uri": "https://localhost:8080/"
        },
        "id": "66HY_s11F0jG",
        "outputId": "334b21bd-9266-4ad7-ab34-17a177e4f539"
      },
      "execution_count": 3,
      "outputs": [
        {
          "output_type": "stream",
          "name": "stdout",
          "text": [
            "Average: 30.0\n",
            "Average: 30\n",
            "Average: 30.0\n",
            "Total= 197\n",
            "Mean of Data 39.4\n"
          ]
        }
      ]
    },
    {
      "cell_type": "markdown",
      "source": [
        "4"
      ],
      "metadata": {
        "id": "J8hfypKjGGD7"
      }
    },
    {
      "cell_type": "code",
      "source": [
        "import networkx as nx\n",
        "import matplotlib.pyplot as plt\n",
        "DAG = nx.DiGraph()\n",
        "edges = [\n",
        "    ('start', 'Data Cleaning'),\n",
        "    ('Data Cleaning', 'Feature Engineering'),\n",
        "    ('Feature Engineering', 'Model Training'),\n",
        "    ('Model Training', 'Evaluation'),\n",
        "    ('Evaluation', 'Deployment')\n",
        "]\n",
        "DAG.add_edges_from(edges)\n",
        "if nx.is_directed_acyclic_graph(DAG):\n",
        "    print(\"The graph is a valid DAG.\")\n",
        "else:\n",
        "    print(\"The graph contains cycles.\")\n",
        "plt.figure(figsize=(8, 5))\n",
        "pos = nx.spring_layout(DAG)\n",
        "nx.draw(DAG, pos, with_labels=True, node_size=3000, node_color=\"lightblue\", edge_color=\"gray\", font_size=10)\n",
        "plt.title(\"Directed Acyclic Graph (DAG) for Data Science Workflow\")\n",
        "plt.show()"
      ],
      "metadata": {
        "id": "xihWrr5sF3VA"
      },
      "execution_count": null,
      "outputs": []
    },
    {
      "cell_type": "markdown",
      "source": [
        "5"
      ],
      "metadata": {
        "id": "tu-bWX0MGKlx"
      }
    },
    {
      "cell_type": "code",
      "source": [
        "import pandas as pd\n",
        "import numpy as np\n",
        "import matplotlib.pyplot as plt\n",
        "from sklearn.cluster import KMeans\n",
        "data = {\n",
        "    'customer_ID': range(1, 21),\n",
        "    'latitude': np.random.uniform(10, 50, 20),\n",
        "    'longitude': np.random.uniform(10, 50, 20)\n",
        "}\n",
        "df = pd.DataFrame(data)\n",
        "k = 3\n",
        "kmeans = KMeans(n_clusters=k, random_state=42)\n",
        "df['cluster'] = kmeans.fit_predict(df[['latitude', 'longitude']])\n",
        "warehouse_locations = kmeans.cluster_centers_\n",
        "plt.figure(figsize=(6, 6))\n",
        "plt.scatter(df['latitude'], df['longitude'], c=df['cluster'], cmap='viridis', label='Customers')\n",
        "plt.scatter(warehouse_locations[:,0], warehouse_locations[:,1], color='red', marker='X', s=200, label='Warehouse Locations')\n",
        "plt.xlabel('Latitude')\n",
        "plt.ylabel('Longitude')\n",
        "plt.title('Warehouse Location Selection using Clustering')\n",
        "plt.legend()\n",
        "plt.show()\n",
        "for i, loc in enumerate(warehouse_locations):\n",
        "    print(f'Warehouse {i+1} Location: Latitude {loc[0]:.2f}, Longitude {loc[1]:.2f}')"
      ],
      "metadata": {
        "id": "UPqruySQGLh_"
      },
      "execution_count": null,
      "outputs": []
    },
    {
      "cell_type": "markdown",
      "source": [
        "6"
      ],
      "metadata": {
        "id": "SDJe8OxXGOhp"
      }
    },
    {
      "cell_type": "code",
      "source": [
        "import pandas as pd\n",
        "import datetime\n",
        "hub_time = pd.DataFrame({\n",
        "    'Event_ID': [101, 102, 103, 104],\n",
        "    'Event_Name': ['Order Placed', 'Order Shipped', 'Payment Processed', 'Order Delivered'],\n",
        "    'Event_Timestamp': [datetime.datetime(2024,2,1,10,30),\n",
        "    datetime.datetime(2024,2,1,11,0),\n",
        "    datetime.datetime(2024,2,1,11,15),\n",
        "    datetime.datetime(2024,2,1,12,0)]\n",
        "})\n",
        "link_event_location = pd.DataFrame({\n",
        "    'Event_ID': [101, 102, 103, 104],\n",
        "    'Location_ID': ['L001', 'L002', 'L003', 'L004'],\n",
        "    'Link_Hash': ['H1', 'H2', 'H3', 'H4']\n",
        "})\n",
        "sat_event_details = pd.DataFrame({\n",
        "    'Event_ID': [101, 102, 103, 104],\n",
        "    'Description': ['Order received from user', 'Package shipped via DHL',\n",
        "    'Payment confirmed', 'Package delivered successfully'],\n",
        "    'Recorded_At': [datetime.datetime(2024,2,1,10,35),\n",
        "    datetime.datetime(2024,2,1,11,5),\n",
        "    datetime.datetime(2024,2,1,11,20),\n",
        "    datetime.datetime(2024,2,1,12,5)]\n",
        "})\n",
        "print(\"Time Hub (Event Information)\")\n",
        "print(hub_time)\n",
        "print(\"\\nLink Table (Event-Location Relationship)\")\n",
        "print(link_event_location)\n",
        "print(\"\\nSatellite Table (Event Details)\")\n",
        "print(sat_event_details)"
      ],
      "metadata": {
        "id": "uSZTRpgmGPV-"
      },
      "execution_count": null,
      "outputs": []
    },
    {
      "cell_type": "markdown",
      "source": [
        "7"
      ],
      "metadata": {
        "id": "9r_fajYaGYOT"
      }
    },
    {
      "cell_type": "code",
      "source": [
        "import pandas as pd\n",
        "import numpy as np\n",
        "import matplotlib.pyplot as plt\n",
        "import seaborn as sns\n",
        "np.random.seed(42)\n",
        "data = pd.DataFrame({\n",
        "    'Age': np.random.randint(18,70,200),\n",
        "    'Income': np.random.randint(20000,120000,200),\n",
        "    'Ad_Spend': np.random.uniform(1000,10000,200),\n",
        "    'Sales': np.random.uniform(5000,50000,200)\n",
        "})\n",
        "plt.figure(figsize=(8,5))\n",
        "sns.histplot(data['Age'], bins=15, kde=True, color='blue')\n",
        "plt.xlabel(\"Age\")\n",
        "plt.ylabel(\"Frequency\")\n",
        "plt.title(\"Distribution of Customer Ages\")\n",
        "plt.show()\n",
        "plt.figure(figsize=(8,5))\n",
        "sns.scatterplot(x=data['Ad_Spend'], y=data['Sales'], color='red')\n",
        "plt.xlabel(\"Ad Spend ($)\")\n",
        "plt.ylabel(\"Sales ($)\")\n",
        "plt.title(\"Ad Spend vs Sales Scatter Plot\")\n",
        "plt.show()"
      ],
      "metadata": {
        "id": "_-BYGOTfGZZP"
      },
      "execution_count": null,
      "outputs": []
    },
    {
      "cell_type": "markdown",
      "source": [
        "8"
      ],
      "metadata": {
        "id": "KjHN9xcVGcJA"
      }
    },
    {
      "cell_type": "code",
      "source": [
        "import pandas as pd\n",
        "import numpy as np\n",
        "data={\n",
        "    'ID': [102,101,104,103,105,102],\n",
        "    'Name': ['Alice','Bob','Charlie','David','Eve', 'Alice'],\n",
        "    'Age': [25, np.nan,35,40,29,25],\n",
        "    'Salary': [50000,60000,np.nan,70000,55000,50000],\n",
        "    'Department': ['HR','IT','Finance','IT','HR','HR']\n",
        "}\n",
        "df3=pd.DataFrame(data)\n",
        "print(df3)\n",
        "df3=df3.drop_duplicates()\n",
        "print(df3)\n",
        "df3['Age'].fillna(df['Age'].mean(), inplace=True)\n",
        "df3 = df3.sort_values(by='Age')\n",
        "df3.rename(columns={'ID': 'Employee_ID', 'Salary': 'Monthly_Salary'}, inplace=True)\n",
        "print(\"Organized Data:\")\n",
        "print(df3)"
      ],
      "metadata": {
        "id": "LFNQOTz7GdNA"
      },
      "execution_count": null,
      "outputs": []
    }
  ]
}